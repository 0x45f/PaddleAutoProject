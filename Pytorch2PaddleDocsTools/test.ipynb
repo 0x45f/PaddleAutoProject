{
 "cells": [
  {
   "cell_type": "code",
   "execution_count": 2,
   "metadata": {},
   "outputs": [
    {
     "name": "stdout",
     "output_type": "stream",
     "text": [
      "['torch.abs', 'aa,fgg,vv)']\n"
     ]
    }
   ],
   "source": [
    "ceshi = \"torch.abs(aa,fgg,vv)\"\n",
    "\n",
    "print(ceshi.split(\"(\")[])"
   ]
  },
  {
   "cell_type": "code",
   "execution_count": 19,
   "metadata": {},
   "outputs": [],
   "source": [
    "import re\n",
    "\n",
    "# 定义正则表达式\n",
    "pattern = r\"([\\w\\.]+)\\(([\\w,\\s]*)\\)\"\n",
    "\n",
    "# 匹配字符串并提取参数\n",
    "s = \"torch.abs(input,*,out=None)\"\n",
    "match = re.match(pattern, s)\n",
    "\n",
    "# 输出参数\n",
    "if match:\n",
    "    func_name = match.group(1)  # 函数名\n",
    "    args = match.group(2)  # 参数列表\n",
    "    arg_list = re.findall(r\"\\w+\", args)  # 匹配参数列表中的参数\n",
    "    print(func_name, arg_list)  # 输出函数名和参数列表\n"
   ]
  },
  {
   "cell_type": "code",
   "execution_count": 21,
   "metadata": {},
   "outputs": [
    {
     "name": "stdout",
     "output_type": "stream",
     "text": [
      "['input']\n"
     ]
    }
   ],
   "source": [
    "import re\n",
    "\n",
    "# 定义正则表达式\n",
    "pattern = r\"torch\\.abs\\(([^,]*)\"\n",
    "\n",
    "# 匹配字符串并提取参数\n",
    "s = \"torch.abs(input,*,out=None)\"\n",
    "match = re.search(pattern, s)\n",
    "\n",
    "# 输出参数\n",
    "if match:\n",
    "    args = match.group(1)  # 参数列表\n",
    "    arg_list = re.findall(r\"\\w+\", args)  # 匹配参数列表中的参数\n",
    "    print(arg_list)  # 输出参数列表\n"
   ]
  },
  {
   "cell_type": "code",
   "execution_count": 22,
   "metadata": {},
   "outputs": [
    {
     "name": "stdout",
     "output_type": "stream",
     "text": [
      "input,*,out=None\n"
     ]
    }
   ],
   "source": [
    "import re\n",
    "\n",
    "string = \"torch.abs(input,*,out=None)\"\n",
    "result = re.search(\"\\((.*?)\\)\", string)\n",
    "\n",
    "if result:\n",
    "    content = result.group(1)\n",
    "    print(content)"
   ]
  }
 ],
 "metadata": {
  "kernelspec": {
   "display_name": "pp",
   "language": "python",
   "name": "python3"
  },
  "language_info": {
   "codemirror_mode": {
    "name": "ipython",
    "version": 3
   },
   "file_extension": ".py",
   "mimetype": "text/x-python",
   "name": "python",
   "nbconvert_exporter": "python",
   "pygments_lexer": "ipython3",
   "version": "3.7.12"
  },
  "orig_nbformat": 4
 },
 "nbformat": 4,
 "nbformat_minor": 2
}
